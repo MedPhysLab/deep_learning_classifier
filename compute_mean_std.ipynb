{
 "cells": [
  {
   "cell_type": "code",
   "execution_count": 3,
   "metadata": {},
   "outputs": [],
   "source": [
    "import numpy as np\n",
    "from PIL import Image\n",
    "import os #blablabla"
   ]
  },
  {
   "cell_type": "code",
   "execution_count": 4,
   "metadata": {},
   "outputs": [],
   "source": [
    "def compute_mean_pixel_value(folder_path):\n",
    "    total_pixels = 0\n",
    "    total_sum = 0\n",
    "\n",
    "    for filename in os.listdir(folder_path):\n",
    "        #if filename.endswith(('.png', '.jpg', '.jpeg', '.bmp', '.gif')):\n",
    "        image_path = os.path.join(folder_path, filename)\n",
    "        with Image.open(image_path) as image:\n",
    "            image_array = np.array(image)\n",
    "            total_sum += np.sum(image_array)\n",
    "            total_pixels += image_array.size\n",
    "\n",
    "    mean_pixel_value = total_sum / total_pixels if total_pixels != 0 else 0\n",
    "\n",
    "\n",
    "       # Second pass to compute the variance\n",
    "    variance_sum = 0\n",
    "    for filename in os.listdir(folder_path):\n",
    "        #if filename.endswith(('.png', '.jpg', '.jpeg', '.bmp', '.gif')):\n",
    "        image_path = os.path.join(folder_path, filename)\n",
    "        with Image.open(image_path) as image:\n",
    "            image_array = np.array(image)\n",
    "            variance_sum += np.sum((image_array - mean_pixel_value) ** 2)\n",
    "\n",
    "    variance = variance_sum / total_pixels if total_pixels != 0 else 0\n",
    "    std_pixel_value = np.sqrt(variance)\n",
    "    \n",
    "    return mean_pixel_value\n"
   ]
  },
  {
   "cell_type": "code",
   "execution_count": 5,
   "metadata": {},
   "outputs": [
    {
     "name": "stdout",
     "output_type": "stream",
     "text": [
      "Mean pixel value for ill images: 14756.502944620293\n",
      "Mean pixel value for all images: 14756.502944620293\n",
      "Mean pixel value for Sane images: 15640.520491748937\n",
      "Mean pixel value for all images: 30397.02343636923\n"
     ]
    }
   ],
   "source": [
    "root_dir = '/home/pasquale/Documents/card_e_ifo_originali/card/backup/'\n",
    "\n",
    "folders = [\"ill\", \"Sane\"]\n",
    "mean_pixel_value =0\n",
    "for folder in folders:\n",
    "    folder_path = os.path.join(root_dir, folder)\n",
    "    mean_pixel_value_per_folder = compute_mean_pixel_value(folder_path)\n",
    "    mean_pixel_value += mean_pixel_value_per_folder\n",
    "    print(f\"Mean pixel value for {folder} images: {mean_pixel_value_per_folder}\")\n",
    "    print(f\"Mean pixel value for all images: {mean_pixel_value}\")\n",
    "\n"
   ]
  },
  {
   "cell_type": "code",
   "execution_count": 6,
   "metadata": {},
   "outputs": [
    {
     "name": "stdout",
     "output_type": "stream",
     "text": [
      "Mean pixel value: 15640.520491748937\n"
     ]
    }
   ],
   "source": [
    "mean_value = compute_mean_pixel_value(folder_path)\n",
    "print(f'Mean pixel value: {mean_value}')"
   ]
  }
 ],
 "metadata": {
  "kernelspec": {
   "display_name": "deep_learning",
   "language": "python",
   "name": "python3"
  },
  "language_info": {
   "codemirror_mode": {
    "name": "ipython",
    "version": 3
   },
   "file_extension": ".py",
   "mimetype": "text/x-python",
   "name": "python",
   "nbconvert_exporter": "python",
   "pygments_lexer": "ipython3",
   "version": "3.12.7"
  }
 },
 "nbformat": 4,
 "nbformat_minor": 2
}
