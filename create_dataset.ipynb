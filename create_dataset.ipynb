{
 "cells": [
  {
   "cell_type": "markdown",
   "metadata": {},
   "source": [
    "# check properties of images"
   ]
  },
  {
   "cell_type": "code",
   "execution_count": 287,
   "metadata": {},
   "outputs": [],
   "source": [
    "import numpy as np"
   ]
  },
  {
   "cell_type": "code",
   "execution_count": 309,
   "metadata": {},
   "outputs": [
    {
     "name": "stdout",
     "output_type": "stream",
     "text": [
      "Image mode: I;16\n"
     ]
    }
   ],
   "source": [
    "from PIL import Image\n",
    "image_path = \"/home/pasquale/Documents/card_e_ifo_originali/card/backup/ill/CARD1BS-17.tif\"\n",
    "image = Image.open(image_path)\n",
    "print(f\"Image mode: {image.mode}\") #if I;16 don't forget to convert to rgb"
   ]
  },
  {
   "cell_type": "code",
   "execution_count": 310,
   "metadata": {},
   "outputs": [
    {
     "name": "stdout",
     "output_type": "stream",
     "text": [
      "Min pixel value: 0, Max pixel value: 65535\n"
     ]
    }
   ],
   "source": [
    "img_array = np.array(image)\n",
    "img_array.shape\n",
    "# Check the range of pixel values\n",
    "min_val = img_array.min()\n",
    "max_val = img_array.max()\n",
    "print(f\"Min pixel value: {min_val}, Max pixel value: {max_val}\")"
   ]
  },
  {
   "cell_type": "markdown",
   "metadata": {},
   "source": [
    "# extract target value from excels"
   ]
  },
  {
   "cell_type": "code",
   "execution_count": 290,
   "metadata": {},
   "outputs": [],
   "source": [
    "import pandas as pd\n",
    "file_path = \"/home/pasquale/Documents/card_e_ifo_originali/card/per_paziente_enh_noskin/\"\n",
    "\n",
    "name_files = [\"roi_benigne_Card_CC_fixed.xlsx\",\"roi_maligne_Card_CC_fixed.xlsx\",\"roi_sane_1_CARD_fixed.xlsx\"]\n"
   ]
  },
  {
   "cell_type": "markdown",
   "metadata": {},
   "source": [
    "## import data"
   ]
  },
  {
   "cell_type": "code",
   "execution_count": 291,
   "metadata": {},
   "outputs": [
    {
     "data": {
      "text/html": [
       "<div>\n",
       "<style scoped>\n",
       "    .dataframe tbody tr th:only-of-type {\n",
       "        vertical-align: middle;\n",
       "    }\n",
       "\n",
       "    .dataframe tbody tr th {\n",
       "        vertical-align: top;\n",
       "    }\n",
       "\n",
       "    .dataframe thead th {\n",
       "        text-align: right;\n",
       "    }\n",
       "</style>\n",
       "<table border=\"1\" class=\"dataframe\">\n",
       "  <thead>\n",
       "    <tr style=\"text-align: right;\">\n",
       "      <th></th>\n",
       "      <th>Global ID</th>\n",
       "      <th>slice</th>\n",
       "      <th>IS</th>\n",
       "      <th>x_centroide_1</th>\n",
       "      <th>y_centroide_1</th>\n",
       "      <th>width_1</th>\n",
       "      <th>height_1</th>\n",
       "      <th>malata</th>\n",
       "    </tr>\n",
       "  </thead>\n",
       "  <tbody>\n",
       "    <tr>\n",
       "      <th>0</th>\n",
       "      <td>CARD100BS-18</td>\n",
       "      <td>18</td>\n",
       "      <td>1</td>\n",
       "      <td>910</td>\n",
       "      <td>1036</td>\n",
       "      <td>361</td>\n",
       "      <td>222</td>\n",
       "      <td>1</td>\n",
       "    </tr>\n",
       "    <tr>\n",
       "      <th>1</th>\n",
       "      <td>CARD100BS-19</td>\n",
       "      <td>19</td>\n",
       "      <td>1</td>\n",
       "      <td>910</td>\n",
       "      <td>1036</td>\n",
       "      <td>361</td>\n",
       "      <td>222</td>\n",
       "      <td>1</td>\n",
       "    </tr>\n",
       "    <tr>\n",
       "      <th>2</th>\n",
       "      <td>CARD100BS-20</td>\n",
       "      <td>20</td>\n",
       "      <td>1</td>\n",
       "      <td>910</td>\n",
       "      <td>1036</td>\n",
       "      <td>361</td>\n",
       "      <td>222</td>\n",
       "      <td>1</td>\n",
       "    </tr>\n",
       "    <tr>\n",
       "      <th>3</th>\n",
       "      <td>CARD100BS-21</td>\n",
       "      <td>21</td>\n",
       "      <td>1</td>\n",
       "      <td>910</td>\n",
       "      <td>1036</td>\n",
       "      <td>361</td>\n",
       "      <td>222</td>\n",
       "      <td>1</td>\n",
       "    </tr>\n",
       "    <tr>\n",
       "      <th>4</th>\n",
       "      <td>CARD100BS-22</td>\n",
       "      <td>22</td>\n",
       "      <td>1</td>\n",
       "      <td>910</td>\n",
       "      <td>1036</td>\n",
       "      <td>361</td>\n",
       "      <td>222</td>\n",
       "      <td>1</td>\n",
       "    </tr>\n",
       "  </tbody>\n",
       "</table>\n",
       "</div>"
      ],
      "text/plain": [
       "      Global ID  slice  IS  x_centroide_1  y_centroide_1  width_1  height_1  \\\n",
       "0  CARD100BS-18     18   1            910           1036      361       222   \n",
       "1  CARD100BS-19     19   1            910           1036      361       222   \n",
       "2  CARD100BS-20     20   1            910           1036      361       222   \n",
       "3  CARD100BS-21     21   1            910           1036      361       222   \n",
       "4  CARD100BS-22     22   1            910           1036      361       222   \n",
       "\n",
       "   malata  \n",
       "0       1  \n",
       "1       1  \n",
       "2       1  \n",
       "3       1  \n",
       "4       1  "
      ]
     },
     "execution_count": 291,
     "metadata": {},
     "output_type": "execute_result"
    }
   ],
   "source": [
    "# Read the Excel file\n",
    "df_benigne = pd.read_excel(file_path+name_files[0], skiprows=0, header=0)\n",
    "# Display the first few rows of the DataFrame\n",
    "df_benigne[\"malata\"]=1\n",
    "df_benigne.head()"
   ]
  },
  {
   "cell_type": "code",
   "execution_count": 292,
   "metadata": {},
   "outputs": [
    {
     "data": {
      "text/html": [
       "<div>\n",
       "<style scoped>\n",
       "    .dataframe tbody tr th:only-of-type {\n",
       "        vertical-align: middle;\n",
       "    }\n",
       "\n",
       "    .dataframe tbody tr th {\n",
       "        vertical-align: top;\n",
       "    }\n",
       "\n",
       "    .dataframe thead th {\n",
       "        text-align: right;\n",
       "    }\n",
       "</style>\n",
       "<table border=\"1\" class=\"dataframe\">\n",
       "  <thead>\n",
       "    <tr style=\"text-align: right;\">\n",
       "      <th></th>\n",
       "      <th>Global ID</th>\n",
       "      <th>slice</th>\n",
       "      <th>IS</th>\n",
       "      <th>x_centroide_1</th>\n",
       "      <th>y_centroide_1</th>\n",
       "      <th>width_1</th>\n",
       "      <th>height_1</th>\n",
       "      <th>malata</th>\n",
       "    </tr>\n",
       "  </thead>\n",
       "  <tbody>\n",
       "    <tr>\n",
       "      <th>0</th>\n",
       "      <td>CARD100S-22</td>\n",
       "      <td>22</td>\n",
       "      <td>1</td>\n",
       "      <td>570</td>\n",
       "      <td>1067</td>\n",
       "      <td>497</td>\n",
       "      <td>426</td>\n",
       "      <td>1</td>\n",
       "    </tr>\n",
       "    <tr>\n",
       "      <th>1</th>\n",
       "      <td>CARD100S-23</td>\n",
       "      <td>23</td>\n",
       "      <td>1</td>\n",
       "      <td>570</td>\n",
       "      <td>1067</td>\n",
       "      <td>497</td>\n",
       "      <td>426</td>\n",
       "      <td>1</td>\n",
       "    </tr>\n",
       "    <tr>\n",
       "      <th>2</th>\n",
       "      <td>CARD100S-24</td>\n",
       "      <td>24</td>\n",
       "      <td>1</td>\n",
       "      <td>570</td>\n",
       "      <td>1067</td>\n",
       "      <td>497</td>\n",
       "      <td>426</td>\n",
       "      <td>1</td>\n",
       "    </tr>\n",
       "    <tr>\n",
       "      <th>3</th>\n",
       "      <td>CARD100S-25</td>\n",
       "      <td>25</td>\n",
       "      <td>1</td>\n",
       "      <td>570</td>\n",
       "      <td>1067</td>\n",
       "      <td>497</td>\n",
       "      <td>426</td>\n",
       "      <td>1</td>\n",
       "    </tr>\n",
       "    <tr>\n",
       "      <th>4</th>\n",
       "      <td>CARD100S-26</td>\n",
       "      <td>26</td>\n",
       "      <td>1</td>\n",
       "      <td>570</td>\n",
       "      <td>1067</td>\n",
       "      <td>497</td>\n",
       "      <td>426</td>\n",
       "      <td>1</td>\n",
       "    </tr>\n",
       "  </tbody>\n",
       "</table>\n",
       "</div>"
      ],
      "text/plain": [
       "     Global ID  slice  IS  x_centroide_1  y_centroide_1  width_1  height_1  \\\n",
       "0  CARD100S-22     22   1            570           1067      497       426   \n",
       "1  CARD100S-23     23   1            570           1067      497       426   \n",
       "2  CARD100S-24     24   1            570           1067      497       426   \n",
       "3  CARD100S-25     25   1            570           1067      497       426   \n",
       "4  CARD100S-26     26   1            570           1067      497       426   \n",
       "\n",
       "   malata  \n",
       "0       1  \n",
       "1       1  \n",
       "2       1  \n",
       "3       1  \n",
       "4       1  "
      ]
     },
     "execution_count": 292,
     "metadata": {},
     "output_type": "execute_result"
    }
   ],
   "source": [
    "# Read the Excel file\n",
    "df_maligne = pd.read_excel(file_path+name_files[1], skiprows=0, header=0)\n",
    "df_maligne[\"malata\"]=1\n",
    "# Rename the column 'info' to 'slice'\n",
    "df_maligne.rename(columns={'info': 'slice'}, inplace=True)\n",
    "# Display the first few rows of the DataFrame\n",
    "df_maligne.head()"
   ]
  },
  {
   "cell_type": "code",
   "execution_count": 293,
   "metadata": {},
   "outputs": [
    {
     "name": "stdout",
     "output_type": "stream",
     "text": [
      "Index(['Global ID', 'slice', 'IS', 'x_centroide_1', 'y_centroide_1', 'width_1',\n",
      "       'height_1', 'malata'],\n",
      "      dtype='object')\n"
     ]
    }
   ],
   "source": [
    "# Check the column names ##\n",
    "print(df_maligne.columns)"
   ]
  },
  {
   "cell_type": "code",
   "execution_count": 294,
   "metadata": {},
   "outputs": [
    {
     "data": {
      "text/html": [
       "<div>\n",
       "<style scoped>\n",
       "    .dataframe tbody tr th:only-of-type {\n",
       "        vertical-align: middle;\n",
       "    }\n",
       "\n",
       "    .dataframe tbody tr th {\n",
       "        vertical-align: top;\n",
       "    }\n",
       "\n",
       "    .dataframe thead th {\n",
       "        text-align: right;\n",
       "    }\n",
       "</style>\n",
       "<table border=\"1\" class=\"dataframe\">\n",
       "  <thead>\n",
       "    <tr style=\"text-align: right;\">\n",
       "      <th></th>\n",
       "      <th>Global ID</th>\n",
       "      <th>slice</th>\n",
       "      <th>IS</th>\n",
       "      <th>x_centroide_1</th>\n",
       "      <th>y_centroide_1</th>\n",
       "      <th>width_1</th>\n",
       "      <th>height_1</th>\n",
       "      <th>malata</th>\n",
       "    </tr>\n",
       "  </thead>\n",
       "  <tbody>\n",
       "    <tr>\n",
       "      <th>0</th>\n",
       "      <td>CARD10S-4</td>\n",
       "      <td>4</td>\n",
       "      <td>1</td>\n",
       "      <td>648</td>\n",
       "      <td>460</td>\n",
       "      <td>250</td>\n",
       "      <td>250</td>\n",
       "      <td>0</td>\n",
       "    </tr>\n",
       "    <tr>\n",
       "      <th>1</th>\n",
       "      <td>CARD10S-5</td>\n",
       "      <td>5</td>\n",
       "      <td>1</td>\n",
       "      <td>601</td>\n",
       "      <td>1182</td>\n",
       "      <td>250</td>\n",
       "      <td>250</td>\n",
       "      <td>0</td>\n",
       "    </tr>\n",
       "    <tr>\n",
       "      <th>2</th>\n",
       "      <td>CARD10S-6</td>\n",
       "      <td>6</td>\n",
       "      <td>1</td>\n",
       "      <td>444</td>\n",
       "      <td>753</td>\n",
       "      <td>250</td>\n",
       "      <td>250</td>\n",
       "      <td>0</td>\n",
       "    </tr>\n",
       "    <tr>\n",
       "      <th>3</th>\n",
       "      <td>CARD10S-7</td>\n",
       "      <td>7</td>\n",
       "      <td>1</td>\n",
       "      <td>766</td>\n",
       "      <td>441</td>\n",
       "      <td>250</td>\n",
       "      <td>250</td>\n",
       "      <td>0</td>\n",
       "    </tr>\n",
       "    <tr>\n",
       "      <th>4</th>\n",
       "      <td>CARD10S-8</td>\n",
       "      <td>8</td>\n",
       "      <td>1</td>\n",
       "      <td>604</td>\n",
       "      <td>1334</td>\n",
       "      <td>250</td>\n",
       "      <td>250</td>\n",
       "      <td>0</td>\n",
       "    </tr>\n",
       "  </tbody>\n",
       "</table>\n",
       "</div>"
      ],
      "text/plain": [
       "   Global ID  slice  IS  x_centroide_1  y_centroide_1  width_1  height_1  \\\n",
       "0  CARD10S-4      4   1            648            460      250       250   \n",
       "1  CARD10S-5      5   1            601           1182      250       250   \n",
       "2  CARD10S-6      6   1            444            753      250       250   \n",
       "3  CARD10S-7      7   1            766            441      250       250   \n",
       "4  CARD10S-8      8   1            604           1334      250       250   \n",
       "\n",
       "   malata  \n",
       "0       0  \n",
       "1       0  \n",
       "2       0  \n",
       "3       0  \n",
       "4       0  "
      ]
     },
     "execution_count": 294,
     "metadata": {},
     "output_type": "execute_result"
    }
   ],
   "source": [
    "# Read the Excel file\n",
    "df_sane = pd.read_excel(file_path+name_files[2], skiprows=0, header=0)\n",
    "df_sane[\"malata\"]=0\n",
    "# Display the first few rows of the DataFrame\n",
    "df_sane.head()"
   ]
  },
  {
   "cell_type": "code",
   "execution_count": 295,
   "metadata": {},
   "outputs": [
    {
     "data": {
      "text/html": [
       "<div>\n",
       "<style scoped>\n",
       "    .dataframe tbody tr th:only-of-type {\n",
       "        vertical-align: middle;\n",
       "    }\n",
       "\n",
       "    .dataframe tbody tr th {\n",
       "        vertical-align: top;\n",
       "    }\n",
       "\n",
       "    .dataframe thead th {\n",
       "        text-align: right;\n",
       "    }\n",
       "</style>\n",
       "<table border=\"1\" class=\"dataframe\">\n",
       "  <thead>\n",
       "    <tr style=\"text-align: right;\">\n",
       "      <th></th>\n",
       "      <th>Global ID</th>\n",
       "      <th>slice</th>\n",
       "      <th>IS</th>\n",
       "      <th>x_centroide_1</th>\n",
       "      <th>y_centroide_1</th>\n",
       "      <th>width_1</th>\n",
       "      <th>height_1</th>\n",
       "      <th>malata</th>\n",
       "    </tr>\n",
       "  </thead>\n",
       "  <tbody>\n",
       "    <tr>\n",
       "      <th>0</th>\n",
       "      <td>CARD100BS-18</td>\n",
       "      <td>18</td>\n",
       "      <td>1</td>\n",
       "      <td>910</td>\n",
       "      <td>1036</td>\n",
       "      <td>361</td>\n",
       "      <td>222</td>\n",
       "      <td>1</td>\n",
       "    </tr>\n",
       "    <tr>\n",
       "      <th>1</th>\n",
       "      <td>CARD100BS-19</td>\n",
       "      <td>19</td>\n",
       "      <td>1</td>\n",
       "      <td>910</td>\n",
       "      <td>1036</td>\n",
       "      <td>361</td>\n",
       "      <td>222</td>\n",
       "      <td>1</td>\n",
       "    </tr>\n",
       "    <tr>\n",
       "      <th>2</th>\n",
       "      <td>CARD100BS-20</td>\n",
       "      <td>20</td>\n",
       "      <td>1</td>\n",
       "      <td>910</td>\n",
       "      <td>1036</td>\n",
       "      <td>361</td>\n",
       "      <td>222</td>\n",
       "      <td>1</td>\n",
       "    </tr>\n",
       "    <tr>\n",
       "      <th>3</th>\n",
       "      <td>CARD100BS-21</td>\n",
       "      <td>21</td>\n",
       "      <td>1</td>\n",
       "      <td>910</td>\n",
       "      <td>1036</td>\n",
       "      <td>361</td>\n",
       "      <td>222</td>\n",
       "      <td>1</td>\n",
       "    </tr>\n",
       "    <tr>\n",
       "      <th>4</th>\n",
       "      <td>CARD100BS-22</td>\n",
       "      <td>22</td>\n",
       "      <td>1</td>\n",
       "      <td>910</td>\n",
       "      <td>1036</td>\n",
       "      <td>361</td>\n",
       "      <td>222</td>\n",
       "      <td>1</td>\n",
       "    </tr>\n",
       "  </tbody>\n",
       "</table>\n",
       "</div>"
      ],
      "text/plain": [
       "      Global ID  slice  IS  x_centroide_1  y_centroide_1  width_1  height_1  \\\n",
       "0  CARD100BS-18     18   1            910           1036      361       222   \n",
       "1  CARD100BS-19     19   1            910           1036      361       222   \n",
       "2  CARD100BS-20     20   1            910           1036      361       222   \n",
       "3  CARD100BS-21     21   1            910           1036      361       222   \n",
       "4  CARD100BS-22     22   1            910           1036      361       222   \n",
       "\n",
       "   malata  \n",
       "0       1  \n",
       "1       1  \n",
       "2       1  \n",
       "3       1  \n",
       "4       1  "
      ]
     },
     "execution_count": 295,
     "metadata": {},
     "output_type": "execute_result"
    }
   ],
   "source": [
    "df = pd.concat([df_benigne,df_sane,df_maligne],ignore_index=True)\n",
    "\n",
    "df.head()"
   ]
  },
  {
   "cell_type": "markdown",
   "metadata": {},
   "source": [
    "\n",
    "                    x_start_point = int(mass_centr_x - larghezza / 2)\n",
    "                    y_start_point = int(mass_centr_y + altezza / 2)\n",
    "                    x_end_point = int(mass_centr_x + larghezza / 2)\n",
    "                    y_end_point = int(mass_centr_y - altezza / 2)"
   ]
  },
  {
   "cell_type": "markdown",
   "metadata": {},
   "source": [
    "## delete rows"
   ]
  },
  {
   "cell_type": "code",
   "execution_count": 296,
   "metadata": {},
   "outputs": [],
   "source": [
    "df = df[~df['Global ID'].isin(['CARD13BS-25','CARD13BS-26','CARD13BS-27','CARD13BS-28','CARD13BS-29','CARD13BS-30','CARD13BS-31','CARD13BS-32'])]"
   ]
  },
  {
   "cell_type": "markdown",
   "metadata": {},
   "source": [
    "## crop image"
   ]
  },
  {
   "cell_type": "code",
   "execution_count": 297,
   "metadata": {},
   "outputs": [],
   "source": [
    "def crop_image( image, center_x, center_y, width =600,height=600):\n",
    "    crop_size=600\n",
    "    \"\"\"Crop the image centered at (center_x, center_y)\"\"\"\n",
    "    left = max(center_x - width // 2, 0)\n",
    "    top = max(center_y - height // 2, 0)\n",
    "    right = min(center_x + width // 2, image.width)\n",
    "    bottom = min(center_y + height // 2, image.height)\n",
    "\n",
    "    # Crop the image\n",
    "    cropped_image = image.crop((left, top, right, bottom))\n",
    "\n",
    "    # Optional: If the crop is smaller than the required size, you can pad it\n",
    "    # (this part is optional and depends on your use case)\n",
    "    if cropped_image.size != (crop_size, crop_size):\n",
    "        cropped_image = cropped_image.resize((crop_size, crop_size))\n",
    "\n",
    "    return cropped_image"
   ]
  },
  {
   "cell_type": "code",
   "execution_count": 298,
   "metadata": {},
   "outputs": [],
   "source": [
    "import os\n",
    "from PIL import Image\n",
    "import torch\n",
    "from torch.utils.data import Dataset, DataLoader\n",
    "from torchvision import transforms\n",
    "\n",
    "class TumorDataset(Dataset):\n",
    "    def __init__(self, root_dir,df=df, transform=None):\n",
    "        \"\"\"\n",
    "        Args:\n",
    "            root_dir (string): Directory with subfolders `sane` and `ill`.\n",
    "            df: dataframe with centroids and area\n",
    "            transform (callable, optional): Optional transforms to be applied\n",
    "                on a sample (e.g., resizing, normalization).\n",
    "        \"\"\"\n",
    "        self.root_dir = root_dir\n",
    "        self.transform = transform\n",
    "        self.df = df\n",
    "\n",
    "\n",
    "    def __len__(self):\n",
    "        return len(self.df)\n",
    "\n",
    "    def __getitem__(self, idx):\n",
    "\n",
    "        # Get the image filename and the label from the dataframe\n",
    "        img_name = self.df.iloc[idx]['Global ID'] \n",
    "        label = self.df.iloc[idx]['malata'] \n",
    "\n",
    "        centroid_x, centroid_y = self.df.iloc[idx]['x_centroide_1'],self.df.iloc[idx]['y_centroide_1']\n",
    "        width, height = self.df.iloc[idx]['width_1'],self.df.iloc[idx]['height_1']\n",
    "        \n",
    "        # Determine the folder path based on the label\n",
    "        if label == 0:\n",
    "            folder = 'Sane'\n",
    "        else:\n",
    "            folder = 'ill'\n",
    "\n",
    "        # Construct the full path to the image\n",
    "        img_path = os.path.join(self.root_dir, folder, img_name) +\".tif\"\n",
    "\n",
    "\n",
    "        \n",
    "        image = Image.open(img_path)#.convert('RGB')  # Convert to RGB for consistency\n",
    "        # Crop the image centered at (centroid_x, centroid_y)\n",
    "        image = crop_image(image, centroid_x, centroid_y, width=600,height=600)\n",
    "        \n",
    "        if self.transform:\n",
    "            image = self.transform(image)\n",
    "\n",
    "        return image, label,img_name, centroid_x, centroid_y "
   ]
  },
  {
   "cell_type": "markdown",
   "metadata": {},
   "source": [
    "# instantiate dataset"
   ]
  },
  {
   "cell_type": "code",
   "execution_count": 299,
   "metadata": {},
   "outputs": [],
   "source": [
    "root_dir = '/home/pasquale/Documents/card_e_ifo_originali/card/backup'"
   ]
  },
  {
   "cell_type": "code",
   "execution_count": 300,
   "metadata": {},
   "outputs": [],
   "source": [
    "mean=[0.485,0.456,0.406]\n",
    "std=[0.229, 0.224, 0.225]"
   ]
  },
  {
   "cell_type": "code",
   "execution_count": 301,
   "metadata": {},
   "outputs": [],
   "source": [
    "from torchvision import transforms\n",
    "\n",
    "transform = transforms.Compose([\n",
    "    #transforms.Resize((256, 256)),  # Resize to fixed size\n",
    "    #transforms.Grayscale(num_output_channels=3),  # Convert to grayscale if needed\n",
    "    transforms.ToTensor(),         # Convert PIL image to PyTorch tensor\n",
    "    #transforms.Normalize(mean, std)  # Normalize\n",
    "])"
   ]
  },
  {
   "cell_type": "code",
   "execution_count": 302,
   "metadata": {},
   "outputs": [],
   "source": [
    "# Instantiate Dataset\n",
    "dataset = TumorDataset(root_dir=root_dir,df=df, transform=transform)"
   ]
  },
  {
   "cell_type": "code",
   "execution_count": 303,
   "metadata": {},
   "outputs": [
    {
     "name": "stdout",
     "output_type": "stream",
     "text": [
      "torch.Size([16, 1, 600, 600])\n",
      "tensor([1, 0, 1, 1, 1, 0, 1, 1, 0, 0, 1, 0, 1, 1, 0, 1])\n",
      "('CARD89S-39', 'CARD33BS-74', 'CARD24S-14', 'CARD29S-29', 'CARD4S-29', 'CARD2S-77', 'CARD61BS-21', 'CARD1S-15', 'CARD23S-21', 'CARD3S-14', 'CARD41BS-41', 'CARD41S-32', 'CARD67S-45', 'CARD37BS-12', 'CARD39S-18', 'CARD14S-53')\n",
      "tensor([ 417,  603,  768,  256,  372,  554, 1245,  384,  781,  934,  610,  826,\n",
      "        1128,  565,  361,  546])\n",
      "tensor([ 842, 1448, 1096,  696,  672, 1636, 1115,  740, 1119,  483,  857, 1345,\n",
      "        1300,  888,  861, 2418])\n"
     ]
    }
   ],
   "source": [
    "# Create DataLoader\n",
    "dataloader = DataLoader(dataset, batch_size=16, shuffle=True, num_workers=4)\n",
    "\n",
    "# Example usage\n",
    "for images, labels,img_name, centroid_x, centroid_y  in dataloader:\n",
    "    print(images.shape)  # (batch_size, channels, 256, 256)\n",
    "    print(labels)        # Tensor of size (batch_size,)\n",
    "    print(img_name)\n",
    "    print(centroid_x)\n",
    "    print(centroid_y)\n",
    "\n",
    "    break"
   ]
  },
  {
   "cell_type": "markdown",
   "metadata": {},
   "source": [
    "## verify the loader"
   ]
  },
  {
   "cell_type": "code",
   "execution_count": 304,
   "metadata": {},
   "outputs": [],
   "source": [
    "import matplotlib.pyplot as plt\n",
    "from torchvision.utils import make_grid\n",
    "\n",
    "# Function to unnormalize a batch of images\n",
    "def unnormalize_batch(batch,mean,std):\n",
    "    # Unnormalize each channel\n",
    "    mean = torch.tensor(mean).view(1, -1, 1, 1)\n",
    "    std = torch.tensor(std).view(1, -1, 1, 1)\n",
    "    unnormalized_batch= batch * std + mean\n",
    "    #unnormalized_batch = (unnormalized_batch * 255).byte()\n",
    "    return torch.clamp(unnormalized_batch, 0, 1)\n",
    "\n",
    "# Get a batch of images from DataLoader\n",
    "#images, labels,globalid , centroid_x, centroid_y = next(iter(dataloader))\n",
    "# Unnormalize the batch\n",
    "#unnormalized_images = unnormalize_batch(images,mean,std)\n",
    "\n",
    "#unnormalized_images =  images \n",
    "# Make a grid of images (default NCHW format)\n",
    "#img_grid = make_grid(unnormalized_images)\n",
    "\n",
    "#numpy_img = np.transpose(images[0].numpy(), (1, 2, 0)) \n",
    "\n",
    "\n",
    "# Convert the grid to HWC format for visualization\n",
    "#npimg = img_grid.numpy()  # Convert from tensor to numpy array\n",
    "#npimg = np.transpose(npimg, (1, 2, 0))  # Convert from CHW to HWC\n",
    "#npimg = np.clip(npimg, 0, 1)  # Clip values to [0, 1]\n",
    "\n",
    "# Display the grid\n",
    "#plt.imshow(npimg)\n",
    "#plt.axis('off')  # Optional: hide axes for better visualization\n",
    "#plt.show()\n",
    "\n",
    "# Print the labels for the batch\n",
    "\n",
    "#print(labels)\n",
    "#print(globalid)"
   ]
  },
  {
   "cell_type": "code",
   "execution_count": 305,
   "metadata": {},
   "outputs": [],
   "source": [
    "from torchvision.transforms import ToPILImage\n",
    "to_pil = ToPILImage()\n",
    "pil_image = to_pil(images[0])"
   ]
  },
  {
   "cell_type": "code",
   "execution_count": 306,
   "metadata": {},
   "outputs": [],
   "source": [
    "pil_image.show()"
   ]
  },
  {
   "cell_type": "code",
   "execution_count": 307,
   "metadata": {},
   "outputs": [],
   "source": [
    "#from matplotlib import pyplot as plt\n",
    "#plt.imshow(numpy_img, interpolation='nearest')\n",
    "#plt.show()"
   ]
  },
  {
   "cell_type": "code",
   "execution_count": 308,
   "metadata": {},
   "outputs": [
    {
     "data": {
      "image/png": "[encoded data removed]",
      "text/plain": [
       "<Figure size 640x480 with 1 Axes>"
      ]
     },
     "metadata": {},
     "output_type": "display_data"
    }
   ],
   "source": [
    "\n",
    "# Visualize the first image in the batch\n",
    "image = unnormalized_images[0].permute(1, 2, 0).numpy()  # Convert to HWC\n",
    "plt.imshow(image)\n",
    "plt.show()"
   ]
  }
 ],
 "metadata": {
  "kernelspec": {
   "display_name": "deep_learning",
   "language": "python",
   "name": "python3"
  },
  "language_info": {
   "codemirror_mode": {
    "name": "ipython",
    "version": 3
   },
   "file_extension": ".py",
   "mimetype": "text/x-python",
   "name": "python",
   "nbconvert_exporter": "python",
   "pygments_lexer": "ipython3",
   "version": "3.12.7"
  }
 },
 "nbformat": 4,
 "nbformat_minor": 2
}
