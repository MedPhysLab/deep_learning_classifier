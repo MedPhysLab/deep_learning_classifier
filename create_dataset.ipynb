{
 "cells": [
  {
   "cell_type": "markdown",
   "metadata": {},
   "source": [
    "# check properties of images"
   ]
  },
  {
   "cell_type": "code",
   "execution_count": 179,
   "metadata": {},
   "outputs": [],
   "source": [
    "import numpy as np\n",
    "import matplotlib.pyplot as plt\n",
    "from torchvision.utils import make_grid"
   ]
  },
  {
   "cell_type": "code",
   "execution_count": 180,
   "metadata": {},
   "outputs": [
    {
     "name": "stdout",
     "output_type": "stream",
     "text": [
      "Image mode: I;16\n"
     ]
    }
   ],
   "source": [
    "from PIL import Image, ImageOps\n",
    "image_path = \"/home/pasquale/Documents/card_e_ifo_originali/card/backup/ill/CARD1BS-17.tif\"\n",
    "image = Image.open(image_path)\n",
    "print(f\"Image mode: {image.mode}\") #if I;16 don't forget to convert to rgb"
   ]
  },
  {
   "cell_type": "code",
   "execution_count": 181,
   "metadata": {},
   "outputs": [
    {
     "name": "stdout",
     "output_type": "stream",
     "text": [
      "Number of channels: 1\n"
     ]
    }
   ],
   "source": [
    "\n",
    "\n",
    "# Check the number of channels\n",
    "num_channels = len(image.getbands())\n",
    "print(f'Number of channels: {num_channels}')"
   ]
  },
  {
   "cell_type": "code",
   "execution_count": 182,
   "metadata": {},
   "outputs": [],
   "source": [
    "# Convert to numpy array\n",
    "image_np = np.array(image)\n",
    "# Normalize the pixel values to the range [0, 255]\n",
    "image_np = (image_np / 65535.0) * 255.0\n",
    "image_np = image_np.astype(np.uint8)\n",
    "\n",
    "#mean = np.mean(image_np)\n",
    "#std = np.std(image_np)\n",
    "#normalized_image = (image_np - mean) / std\n",
    "\n",
    "# Convert the normalized image to a PIL image\n",
    "#image = Image.fromarray(image_np)"
   ]
  },
  {
   "cell_type": "code",
   "execution_count": 183,
   "metadata": {},
   "outputs": [
    {
     "data": {
      "text/plain": [
       "(2538, 1197)"
      ]
     },
     "execution_count": 183,
     "metadata": {},
     "output_type": "execute_result"
    }
   ],
   "source": [
    "np.shape(image_np)"
   ]
  },
  {
   "cell_type": "code",
   "execution_count": 184,
   "metadata": {},
   "outputs": [],
   "source": [
    "# Stack the grayscale image into 3 identical channels to create an RGB image\n",
    "image_rgb_np = np.stack((image_np,)*3, axis=-1)\n",
    "\n",
    "# Convert the NumPy array to a PIL Image\n",
    "image_rgb = Image.fromarray(image_rgb_np)\n",
    "\n",
    "# Display the image (optional)\n",
    "#image_rgb.show()"
   ]
  },
  {
   "cell_type": "code",
   "execution_count": 185,
   "metadata": {},
   "outputs": [
    {
     "name": "stdout",
     "output_type": "stream",
     "text": [
      "Number of channels: 3\n"
     ]
    }
   ],
   "source": [
    "\n",
    "\n",
    "# Check the number of channels\n",
    "num_channels = len(image_rgb.getbands())\n",
    "print(f'Number of channels: {num_channels}')"
   ]
  },
  {
   "cell_type": "code",
   "execution_count": 186,
   "metadata": {},
   "outputs": [
    {
     "name": "stdout",
     "output_type": "stream",
     "text": [
      "Min pixel value: 0, Max pixel value: 65535\n",
      "Mean pixel value: 13516.710542444896, std pixel value: 16997.863993067953\n"
     ]
    }
   ],
   "source": [
    "img_array = np.array(image)\n",
    "img_array.shape\n",
    "# Check the range of pixel values\n",
    "min_val = img_array.min()\n",
    "max_val = img_array.max()\n",
    "mean_val = img_array.mean()\n",
    "std_val = img_array.std()\n",
    "\n",
    "print(f\"Min pixel value: {min_val}, Max pixel value: {max_val}\")\n",
    "print(f\"Mean pixel value: {mean_val}, std pixel value: {std_val}\")"
   ]
  },
  {
   "cell_type": "markdown",
   "metadata": {},
   "source": [
    "# extract target value from excels"
   ]
  },
  {
   "cell_type": "code",
   "execution_count": 187,
   "metadata": {},
   "outputs": [],
   "source": [
    "import pandas as pd\n",
    "file_path = \"/home/pasquale/Documents/card_e_ifo_originali/card/per_paziente_enh_noskin/\"\n",
    "\n",
    "name_files = [\"roi_benigne_Card_CC_fixed.xlsx\",\"roi_maligne_Card_CC_fixed.xlsx\",\"roi_sane_1_CARD_fixed.xlsx\"]\n"
   ]
  },
  {
   "cell_type": "markdown",
   "metadata": {},
   "source": [
    "## import data"
   ]
  },
  {
   "cell_type": "code",
   "execution_count": 188,
   "metadata": {},
   "outputs": [
    {
     "data": {
      "text/html": [
       "<div>\n",
       "<style scoped>\n",
       "    .dataframe tbody tr th:only-of-type {\n",
       "        vertical-align: middle;\n",
       "    }\n",
       "\n",
       "    .dataframe tbody tr th {\n",
       "        vertical-align: top;\n",
       "    }\n",
       "\n",
       "    .dataframe thead th {\n",
       "        text-align: right;\n",
       "    }\n",
       "</style>\n",
       "<table border=\"1\" class=\"dataframe\">\n",
       "  <thead>\n",
       "    <tr style=\"text-align: right;\">\n",
       "      <th></th>\n",
       "      <th>Global ID</th>\n",
       "      <th>slice</th>\n",
       "      <th>IS</th>\n",
       "      <th>x_centroide_1</th>\n",
       "      <th>y_centroide_1</th>\n",
       "      <th>width_1</th>\n",
       "      <th>height_1</th>\n",
       "      <th>malata</th>\n",
       "    </tr>\n",
       "  </thead>\n",
       "  <tbody>\n",
       "    <tr>\n",
       "      <th>0</th>\n",
       "      <td>CARD100BS-18</td>\n",
       "      <td>18</td>\n",
       "      <td>1</td>\n",
       "      <td>910</td>\n",
       "      <td>1036</td>\n",
       "      <td>361</td>\n",
       "      <td>222</td>\n",
       "      <td>1</td>\n",
       "    </tr>\n",
       "    <tr>\n",
       "      <th>1</th>\n",
       "      <td>CARD100BS-19</td>\n",
       "      <td>19</td>\n",
       "      <td>1</td>\n",
       "      <td>910</td>\n",
       "      <td>1036</td>\n",
       "      <td>361</td>\n",
       "      <td>222</td>\n",
       "      <td>1</td>\n",
       "    </tr>\n",
       "    <tr>\n",
       "      <th>2</th>\n",
       "      <td>CARD100BS-20</td>\n",
       "      <td>20</td>\n",
       "      <td>1</td>\n",
       "      <td>910</td>\n",
       "      <td>1036</td>\n",
       "      <td>361</td>\n",
       "      <td>222</td>\n",
       "      <td>1</td>\n",
       "    </tr>\n",
       "    <tr>\n",
       "      <th>3</th>\n",
       "      <td>CARD100BS-21</td>\n",
       "      <td>21</td>\n",
       "      <td>1</td>\n",
       "      <td>910</td>\n",
       "      <td>1036</td>\n",
       "      <td>361</td>\n",
       "      <td>222</td>\n",
       "      <td>1</td>\n",
       "    </tr>\n",
       "    <tr>\n",
       "      <th>4</th>\n",
       "      <td>CARD100BS-22</td>\n",
       "      <td>22</td>\n",
       "      <td>1</td>\n",
       "      <td>910</td>\n",
       "      <td>1036</td>\n",
       "      <td>361</td>\n",
       "      <td>222</td>\n",
       "      <td>1</td>\n",
       "    </tr>\n",
       "  </tbody>\n",
       "</table>\n",
       "</div>"
      ],
      "text/plain": [
       "      Global ID  slice  IS  x_centroide_1  y_centroide_1  width_1  height_1  \\\n",
       "0  CARD100BS-18     18   1            910           1036      361       222   \n",
       "1  CARD100BS-19     19   1            910           1036      361       222   \n",
       "2  CARD100BS-20     20   1            910           1036      361       222   \n",
       "3  CARD100BS-21     21   1            910           1036      361       222   \n",
       "4  CARD100BS-22     22   1            910           1036      361       222   \n",
       "\n",
       "   malata  \n",
       "0       1  \n",
       "1       1  \n",
       "2       1  \n",
       "3       1  \n",
       "4       1  "
      ]
     },
     "execution_count": 188,
     "metadata": {},
     "output_type": "execute_result"
    }
   ],
   "source": [
    "# Read the Excel file\n",
    "df_benigne = pd.read_excel(file_path+name_files[0], skiprows=0, header=0)\n",
    "# Display the first few rows of the DataFrame\n",
    "df_benigne[\"malata\"]=1\n",
    "df_benigne.head()"
   ]
  },
  {
   "cell_type": "code",
   "execution_count": 189,
   "metadata": {},
   "outputs": [
    {
     "data": {
      "text/html": [
       "<div>\n",
       "<style scoped>\n",
       "    .dataframe tbody tr th:only-of-type {\n",
       "        vertical-align: middle;\n",
       "    }\n",
       "\n",
       "    .dataframe tbody tr th {\n",
       "        vertical-align: top;\n",
       "    }\n",
       "\n",
       "    .dataframe thead th {\n",
       "        text-align: right;\n",
       "    }\n",
       "</style>\n",
       "<table border=\"1\" class=\"dataframe\">\n",
       "  <thead>\n",
       "    <tr style=\"text-align: right;\">\n",
       "      <th></th>\n",
       "      <th>Global ID</th>\n",
       "      <th>slice</th>\n",
       "      <th>IS</th>\n",
       "      <th>x_centroide_1</th>\n",
       "      <th>y_centroide_1</th>\n",
       "      <th>width_1</th>\n",
       "      <th>height_1</th>\n",
       "      <th>malata</th>\n",
       "    </tr>\n",
       "  </thead>\n",
       "  <tbody>\n",
       "    <tr>\n",
       "      <th>0</th>\n",
       "      <td>CARD100S-22</td>\n",
       "      <td>22</td>\n",
       "      <td>1</td>\n",
       "      <td>570</td>\n",
       "      <td>1067</td>\n",
       "      <td>497</td>\n",
       "      <td>426</td>\n",
       "      <td>1</td>\n",
       "    </tr>\n",
       "    <tr>\n",
       "      <th>1</th>\n",
       "      <td>CARD100S-23</td>\n",
       "      <td>23</td>\n",
       "      <td>1</td>\n",
       "      <td>570</td>\n",
       "      <td>1067</td>\n",
       "      <td>497</td>\n",
       "      <td>426</td>\n",
       "      <td>1</td>\n",
       "    </tr>\n",
       "    <tr>\n",
       "      <th>2</th>\n",
       "      <td>CARD100S-24</td>\n",
       "      <td>24</td>\n",
       "      <td>1</td>\n",
       "      <td>570</td>\n",
       "      <td>1067</td>\n",
       "      <td>497</td>\n",
       "      <td>426</td>\n",
       "      <td>1</td>\n",
       "    </tr>\n",
       "    <tr>\n",
       "      <th>3</th>\n",
       "      <td>CARD100S-25</td>\n",
       "      <td>25</td>\n",
       "      <td>1</td>\n",
       "      <td>570</td>\n",
       "      <td>1067</td>\n",
       "      <td>497</td>\n",
       "      <td>426</td>\n",
       "      <td>1</td>\n",
       "    </tr>\n",
       "    <tr>\n",
       "      <th>4</th>\n",
       "      <td>CARD100S-26</td>\n",
       "      <td>26</td>\n",
       "      <td>1</td>\n",
       "      <td>570</td>\n",
       "      <td>1067</td>\n",
       "      <td>497</td>\n",
       "      <td>426</td>\n",
       "      <td>1</td>\n",
       "    </tr>\n",
       "  </tbody>\n",
       "</table>\n",
       "</div>"
      ],
      "text/plain": [
       "     Global ID  slice  IS  x_centroide_1  y_centroide_1  width_1  height_1  \\\n",
       "0  CARD100S-22     22   1            570           1067      497       426   \n",
       "1  CARD100S-23     23   1            570           1067      497       426   \n",
       "2  CARD100S-24     24   1            570           1067      497       426   \n",
       "3  CARD100S-25     25   1            570           1067      497       426   \n",
       "4  CARD100S-26     26   1            570           1067      497       426   \n",
       "\n",
       "   malata  \n",
       "0       1  \n",
       "1       1  \n",
       "2       1  \n",
       "3       1  \n",
       "4       1  "
      ]
     },
     "execution_count": 189,
     "metadata": {},
     "output_type": "execute_result"
    }
   ],
   "source": [
    "# Read the Excel file\n",
    "df_maligne = pd.read_excel(file_path+name_files[1], skiprows=0, header=0)\n",
    "df_maligne[\"malata\"]=1\n",
    "# Rename the column 'info' to 'slice'\n",
    "df_maligne.rename(columns={'info': 'slice'}, inplace=True)\n",
    "# Display the first few rows of the DataFrame\n",
    "df_maligne.head()"
   ]
  },
  {
   "cell_type": "code",
   "execution_count": 190,
   "metadata": {},
   "outputs": [
    {
     "name": "stdout",
     "output_type": "stream",
     "text": [
      "Index(['Global ID', 'slice', 'IS', 'x_centroide_1', 'y_centroide_1', 'width_1',\n",
      "       'height_1', 'malata'],\n",
      "      dtype='object')\n"
     ]
    }
   ],
   "source": [
    "# Check the column names ##\n",
    "print(df_maligne.columns)"
   ]
  },
  {
   "cell_type": "code",
   "execution_count": 191,
   "metadata": {},
   "outputs": [
    {
     "data": {
      "text/html": [
       "<div>\n",
       "<style scoped>\n",
       "    .dataframe tbody tr th:only-of-type {\n",
       "        vertical-align: middle;\n",
       "    }\n",
       "\n",
       "    .dataframe tbody tr th {\n",
       "        vertical-align: top;\n",
       "    }\n",
       "\n",
       "    .dataframe thead th {\n",
       "        text-align: right;\n",
       "    }\n",
       "</style>\n",
       "<table border=\"1\" class=\"dataframe\">\n",
       "  <thead>\n",
       "    <tr style=\"text-align: right;\">\n",
       "      <th></th>\n",
       "      <th>Global ID</th>\n",
       "      <th>slice</th>\n",
       "      <th>IS</th>\n",
       "      <th>x_centroide_1</th>\n",
       "      <th>y_centroide_1</th>\n",
       "      <th>width_1</th>\n",
       "      <th>height_1</th>\n",
       "      <th>malata</th>\n",
       "    </tr>\n",
       "  </thead>\n",
       "  <tbody>\n",
       "    <tr>\n",
       "      <th>0</th>\n",
       "      <td>CARD10S-4</td>\n",
       "      <td>4</td>\n",
       "      <td>1</td>\n",
       "      <td>648</td>\n",
       "      <td>460</td>\n",
       "      <td>250</td>\n",
       "      <td>250</td>\n",
       "      <td>0</td>\n",
       "    </tr>\n",
       "    <tr>\n",
       "      <th>1</th>\n",
       "      <td>CARD10S-5</td>\n",
       "      <td>5</td>\n",
       "      <td>1</td>\n",
       "      <td>601</td>\n",
       "      <td>1182</td>\n",
       "      <td>250</td>\n",
       "      <td>250</td>\n",
       "      <td>0</td>\n",
       "    </tr>\n",
       "    <tr>\n",
       "      <th>2</th>\n",
       "      <td>CARD10S-6</td>\n",
       "      <td>6</td>\n",
       "      <td>1</td>\n",
       "      <td>444</td>\n",
       "      <td>753</td>\n",
       "      <td>250</td>\n",
       "      <td>250</td>\n",
       "      <td>0</td>\n",
       "    </tr>\n",
       "    <tr>\n",
       "      <th>3</th>\n",
       "      <td>CARD10S-7</td>\n",
       "      <td>7</td>\n",
       "      <td>1</td>\n",
       "      <td>766</td>\n",
       "      <td>441</td>\n",
       "      <td>250</td>\n",
       "      <td>250</td>\n",
       "      <td>0</td>\n",
       "    </tr>\n",
       "    <tr>\n",
       "      <th>4</th>\n",
       "      <td>CARD10S-8</td>\n",
       "      <td>8</td>\n",
       "      <td>1</td>\n",
       "      <td>604</td>\n",
       "      <td>1334</td>\n",
       "      <td>250</td>\n",
       "      <td>250</td>\n",
       "      <td>0</td>\n",
       "    </tr>\n",
       "  </tbody>\n",
       "</table>\n",
       "</div>"
      ],
      "text/plain": [
       "   Global ID  slice  IS  x_centroide_1  y_centroide_1  width_1  height_1  \\\n",
       "0  CARD10S-4      4   1            648            460      250       250   \n",
       "1  CARD10S-5      5   1            601           1182      250       250   \n",
       "2  CARD10S-6      6   1            444            753      250       250   \n",
       "3  CARD10S-7      7   1            766            441      250       250   \n",
       "4  CARD10S-8      8   1            604           1334      250       250   \n",
       "\n",
       "   malata  \n",
       "0       0  \n",
       "1       0  \n",
       "2       0  \n",
       "3       0  \n",
       "4       0  "
      ]
     },
     "execution_count": 191,
     "metadata": {},
     "output_type": "execute_result"
    }
   ],
   "source": [
    "# Read the Excel file\n",
    "df_sane = pd.read_excel(file_path+name_files[2], skiprows=0, header=0)\n",
    "df_sane[\"malata\"]=0\n",
    "# Display the first few rows of the DataFrame\n",
    "df_sane.head()"
   ]
  },
  {
   "cell_type": "code",
   "execution_count": 192,
   "metadata": {},
   "outputs": [
    {
     "data": {
      "text/html": [
       "<div>\n",
       "<style scoped>\n",
       "    .dataframe tbody tr th:only-of-type {\n",
       "        vertical-align: middle;\n",
       "    }\n",
       "\n",
       "    .dataframe tbody tr th {\n",
       "        vertical-align: top;\n",
       "    }\n",
       "\n",
       "    .dataframe thead th {\n",
       "        text-align: right;\n",
       "    }\n",
       "</style>\n",
       "<table border=\"1\" class=\"dataframe\">\n",
       "  <thead>\n",
       "    <tr style=\"text-align: right;\">\n",
       "      <th></th>\n",
       "      <th>Global ID</th>\n",
       "      <th>slice</th>\n",
       "      <th>IS</th>\n",
       "      <th>x_centroide_1</th>\n",
       "      <th>y_centroide_1</th>\n",
       "      <th>width_1</th>\n",
       "      <th>height_1</th>\n",
       "      <th>malata</th>\n",
       "    </tr>\n",
       "  </thead>\n",
       "  <tbody>\n",
       "    <tr>\n",
       "      <th>0</th>\n",
       "      <td>CARD100BS-18</td>\n",
       "      <td>18</td>\n",
       "      <td>1</td>\n",
       "      <td>910</td>\n",
       "      <td>1036</td>\n",
       "      <td>361</td>\n",
       "      <td>222</td>\n",
       "      <td>1</td>\n",
       "    </tr>\n",
       "    <tr>\n",
       "      <th>1</th>\n",
       "      <td>CARD100BS-19</td>\n",
       "      <td>19</td>\n",
       "      <td>1</td>\n",
       "      <td>910</td>\n",
       "      <td>1036</td>\n",
       "      <td>361</td>\n",
       "      <td>222</td>\n",
       "      <td>1</td>\n",
       "    </tr>\n",
       "    <tr>\n",
       "      <th>2</th>\n",
       "      <td>CARD100BS-20</td>\n",
       "      <td>20</td>\n",
       "      <td>1</td>\n",
       "      <td>910</td>\n",
       "      <td>1036</td>\n",
       "      <td>361</td>\n",
       "      <td>222</td>\n",
       "      <td>1</td>\n",
       "    </tr>\n",
       "    <tr>\n",
       "      <th>3</th>\n",
       "      <td>CARD100BS-21</td>\n",
       "      <td>21</td>\n",
       "      <td>1</td>\n",
       "      <td>910</td>\n",
       "      <td>1036</td>\n",
       "      <td>361</td>\n",
       "      <td>222</td>\n",
       "      <td>1</td>\n",
       "    </tr>\n",
       "    <tr>\n",
       "      <th>4</th>\n",
       "      <td>CARD100BS-22</td>\n",
       "      <td>22</td>\n",
       "      <td>1</td>\n",
       "      <td>910</td>\n",
       "      <td>1036</td>\n",
       "      <td>361</td>\n",
       "      <td>222</td>\n",
       "      <td>1</td>\n",
       "    </tr>\n",
       "  </tbody>\n",
       "</table>\n",
       "</div>"
      ],
      "text/plain": [
       "      Global ID  slice  IS  x_centroide_1  y_centroide_1  width_1  height_1  \\\n",
       "0  CARD100BS-18     18   1            910           1036      361       222   \n",
       "1  CARD100BS-19     19   1            910           1036      361       222   \n",
       "2  CARD100BS-20     20   1            910           1036      361       222   \n",
       "3  CARD100BS-21     21   1            910           1036      361       222   \n",
       "4  CARD100BS-22     22   1            910           1036      361       222   \n",
       "\n",
       "   malata  \n",
       "0       1  \n",
       "1       1  \n",
       "2       1  \n",
       "3       1  \n",
       "4       1  "
      ]
     },
     "execution_count": 192,
     "metadata": {},
     "output_type": "execute_result"
    }
   ],
   "source": [
    "df = pd.concat([df_benigne,df_sane,df_maligne],ignore_index=True)\n",
    "\n",
    "df.head()"
   ]
  },
  {
   "cell_type": "markdown",
   "metadata": {},
   "source": [
    "\n",
    "                    x_start_point = int(mass_centr_x - larghezza / 2)\n",
    "                    y_start_point = int(mass_centr_y + altezza / 2)\n",
    "                    x_end_point = int(mass_centr_x + larghezza / 2)\n",
    "                    y_end_point = int(mass_centr_y - altezza / 2)"
   ]
  },
  {
   "cell_type": "markdown",
   "metadata": {},
   "source": [
    "## delete rows"
   ]
  },
  {
   "cell_type": "code",
   "execution_count": 193,
   "metadata": {},
   "outputs": [],
   "source": [
    "df = df[~df['Global ID'].isin(['CARD13BS-25','CARD13BS-26','CARD13BS-27','CARD13BS-28','CARD13BS-29','CARD13BS-30','CARD13BS-31','CARD13BS-32'])]"
   ]
  },
  {
   "cell_type": "markdown",
   "metadata": {},
   "source": [
    "## crop image"
   ]
  },
  {
   "cell_type": "code",
   "execution_count": 194,
   "metadata": {},
   "outputs": [],
   "source": [
    "def crop_image( image, center_x, center_y, width =600,height=600):\n",
    "    crop_size=600\n",
    "    \"\"\"Crop the image centered at (center_x, center_y)\"\"\"\n",
    "    left = max(center_x - width // 2, 0)\n",
    "    top = max(center_y - height // 2, 0)\n",
    "    right = min(center_x + width // 2, image.width)\n",
    "    bottom = min(center_y + height // 2, image.height)\n",
    "\n",
    "    # Crop the image\n",
    "    cropped_image = image.crop((left, top, right, bottom))\n",
    "\n",
    "    # Optional: If the crop is smaller than the required size, you can pad it\n",
    "    # (this part is optional and depends on your use case)\n",
    "    if cropped_image.size != (crop_size, crop_size):\n",
    "        cropped_image = cropped_image.resize((crop_size, crop_size))\n",
    "\n",
    "    return cropped_image"
   ]
  },
  {
   "cell_type": "code",
   "execution_count": 195,
   "metadata": {},
   "outputs": [],
   "source": [
    "import os\n",
    "from PIL import Image\n",
    "import torch\n",
    "from torch.utils.data import Dataset, DataLoader\n",
    "from torchvision import transforms\n",
    "\n",
    "class TumorDataset(Dataset):\n",
    "    def __init__(self, root_dir,df=df, transform=None):\n",
    "        \"\"\"\n",
    "        Args:\n",
    "            root_dir (string): Directory with subfolders `sane` and `ill`.\n",
    "            df: dataframe with centroids and area\n",
    "            transform (callable, optional): Optional transforms to be applied\n",
    "                on a sample (e.g., resizing, normalization).\n",
    "        \"\"\"\n",
    "        self.root_dir = root_dir\n",
    "        self.transform = transform\n",
    "        self.df = df\n",
    "\n",
    "\n",
    "    def __len__(self):\n",
    "        return len(self.df)\n",
    "\n",
    "    def __getitem__(self, idx):\n",
    "\n",
    "        # Get the image filename and the label from the dataframe\n",
    "        img_name = self.df.iloc[idx]['Global ID'] \n",
    "        label = self.df.iloc[idx]['malata'] \n",
    "\n",
    "        centroid_x, centroid_y = self.df.iloc[idx]['x_centroide_1'],self.df.iloc[idx]['y_centroide_1']\n",
    "        width, height = self.df.iloc[idx]['width_1'],self.df.iloc[idx]['height_1']\n",
    "        \n",
    "        # Determine the folder path based on the label\n",
    "        if label == 0:\n",
    "            folder = 'Sane'\n",
    "        else:\n",
    "            folder = 'ill'\n",
    "\n",
    "        # Construct the full path to the image\n",
    "        img_path = os.path.join(self.root_dir, folder, img_name) +\".tif\"\n",
    "\n",
    "        # Load the image\n",
    "        image = Image.open(img_path)\n",
    "        # Convert to numpy array\n",
    "        image_np = np.array(image)\n",
    "        # Normalize the pixel values to the range [0, 255]\n",
    "        image_np = (image_np / 65535.0) * 255.0\n",
    "        image_np = image_np.astype(np.uint8)\n",
    "        # Stack the grayscale image into 3 identical channels to create an RGB image\n",
    "        image_rgb_np = np.stack((image_np,)*3, axis=-1)\n",
    "        # Convert the NumPy array to a PIL Image\n",
    "        image = Image.fromarray(image_rgb_np)\n",
    "        \n",
    "        # Crop the image centered at (centroid_x, centroid_y)\n",
    "        image = crop_image(image, centroid_x, centroid_y, width=600,height=600)\n",
    "        \n",
    "        if self.transform:\n",
    "            image = self.transform(image)\n",
    "\n",
    "        return image, label,img_name, centroid_x, centroid_y "
   ]
  },
  {
   "cell_type": "markdown",
   "metadata": {},
   "source": [
    "# instantiate dataset"
   ]
  },
  {
   "cell_type": "code",
   "execution_count": 196,
   "metadata": {},
   "outputs": [],
   "source": [
    "root_dir = '/home/pasquale/Documents/card_e_ifo_originali/card/backup'"
   ]
  },
  {
   "cell_type": "code",
   "execution_count": 197,
   "metadata": {},
   "outputs": [],
   "source": [
    "#mean=[0.485,0.456,0.406]\n",
    "#std=[0.229, 0.224, 0.225]\n",
    "mean= [15220.63,15220.63,15220.63]\n",
    "std=  [16633.08,16633.08,16633.08]"
   ]
  },
  {
   "cell_type": "code",
   "execution_count": 198,
   "metadata": {},
   "outputs": [],
   "source": [
    "from torchvision import transforms\n",
    "\n",
    "transform = transforms.Compose([\n",
    "    transforms.ToTensor(),  # Convert PIL image to PyTorch tensor\n",
    "    #transforms.ConvertImageDtype(torch.float32), \n",
    "    transforms.Normalize(mean=mean, std=std),  # Normalize to range [0, 1]\n",
    "    transforms.RandomRotation(degrees=45),  # Random rotation\n",
    "    transforms.RandomHorizontalFlip(),  # Random horizontal flip\n",
    "    transforms.RandomVerticalFlip()  # Random vertical flip\n",
    "])"
   ]
  },
  {
   "cell_type": "code",
   "execution_count": 199,
   "metadata": {},
   "outputs": [],
   "source": [
    "# Instantiate Dataset\n",
    "dataset = TumorDataset(root_dir=root_dir,df=df, transform=transform)"
   ]
  },
  {
   "cell_type": "code",
   "execution_count": 200,
   "metadata": {},
   "outputs": [
    {
     "name": "stdout",
     "output_type": "stream",
     "text": [
      "torch.Size([16, 3, 600, 600])\n",
      "tensor([0, 1, 1, 1, 1, 1, 0, 0, 1, 1, 1, 0, 1, 0, 0, 1])\n",
      "('CARD42S-13', 'CARD72S-34', 'CARD94BS-35', 'CARD46BS-19', 'CARD56S-20', 'CARD39S-30', 'CARD36BS-59', 'CARD33S-37', 'CARD14S-50', 'CARD47S-30', 'CARD23S-31', 'CARD34S-49', 'CARD7S-21', 'CARD7BS-55', 'CARD25S-53', 'CARD42S-52')\n",
      "tensor([468, 195, 575, 500, 476, 276, 254, 278, 546, 556, 488, 457, 189, 399,\n",
      "        200, 568])\n",
      "tensor([1362,  655, 1547,  737, 1130, 1428,  426, 1534, 2418,  906, 1214, 1145,\n",
      "         444, 1582,  782, 1244])\n"
     ]
    }
   ],
   "source": [
    "# Create DataLoader\n",
    "dataloader = DataLoader(dataset, batch_size=16, shuffle=True, num_workers=4)\n",
    "\n",
    "# Example usage\n",
    "for images, labels,img_name, centroid_x, centroid_y  in dataloader:\n",
    "    print(images.shape)  # (batch_size, channels, 256, 256)\n",
    "    print(labels)        # Tensor of size (batch_size,)\n",
    "    print(img_name)\n",
    "    print(centroid_x)\n",
    "    print(centroid_y)\n",
    "\n",
    "    break"
   ]
  },
  {
   "cell_type": "markdown",
   "metadata": {},
   "source": [
    "## verify the loader"
   ]
  },
  {
   "cell_type": "code",
   "execution_count": 201,
   "metadata": {},
   "outputs": [
    {
     "data": {
      "image/png": "[encoded data removed]",
      "text/plain": [
       "<Figure size 640x480 with 1 Axes>"
      ]
     },
     "metadata": {},
     "output_type": "display_data"
    }
   ],
   "source": [
    "# Function to show an image\n",
    "def imshow(image):\n",
    "    # Convert the tensor to a NumPy array\n",
    "    image = image.numpy().transpose((1, 2, 0))\n",
    "\n",
    "    image = (image *std)+mean\n",
    "    #image.transpose((1,2,0))\n",
    "\n",
    "\n",
    "    # Unnormalize the image if it was normalized\n",
    "    image = image * 255.0\n",
    "    image = image.astype(np.uint8)\n",
    "    plt.imshow(image)\n",
    "    plt.axis('off')\n",
    "    plt.show()\n",
    "\n",
    "# Show the first image in the batch\n",
    "imshow(images[0])"
   ]
  },
  {
   "cell_type": "code",
   "execution_count": 202,
   "metadata": {},
   "outputs": [],
   "source": [
    "def unnormalized_batch(images, mean=0, std=1):\n",
    "    \"\"\"Unnormalize a batch of images\"\"\"\n",
    "    # Convert the images to NumPy arrays\n",
    "    images_np = images.numpy()\n",
    "    # Transpose the images to (batch_size, H, W, C)\n",
    "    images_np = images_np.transpose((0, 2, 3, 1))\n",
    "    # Unnormalize the images\n",
    "    images_np = images_np * std + mean\n",
    "    images_np = images_np * 255.0\n",
    "    images_np = images_np.astype(np.uint8)\n",
    "    return images_np"
   ]
  },
  {
   "cell_type": "code",
   "execution_count": 203,
   "metadata": {},
   "outputs": [
    {
     "name": "stderr",
     "output_type": "stream",
     "text": [
      "Clipping input data to the valid range for imshow with RGB data ([0..1] for floats or [0..255] for integers). Got range [-0.91508186..0.0].\n"
     ]
    },
    {
     "data": {
      "image/png": "[encoded data removed]",
      "text/plain": [
       "<Figure size 640x480 with 1 Axes>"
      ]
     },
     "metadata": {},
     "output_type": "display_data"
    }
   ],
   "source": [
    "\n",
    "\n",
    "\n",
    "\n",
    "# Get a batch of images from DataLoader\n",
    "images, labels,img_name, centroid_x, centroid_y  = next(iter(dataloader))\n",
    "# Create a grid of images\n",
    "grid = make_grid(images, nrow=4, padding=2)\n",
    "\n",
    "\n",
    "\n",
    "# Convert the grid to a NumPy array\n",
    "grid_np = grid.numpy().transpose((1, 2, 0))\n",
    "\n",
    "# Display the grid\n",
    "plt.imshow(grid_np)\n",
    "plt.axis('off')\n",
    "plt.show()\n"
   ]
  }
 ],
 "metadata": {
  "kernelspec": {
   "display_name": "deep_learning",
   "language": "python",
   "name": "python3"
  },
  "language_info": {
   "codemirror_mode": {
    "name": "ipython",
    "version": 3
   },
   "file_extension": ".py",
   "mimetype": "text/x-python",
   "name": "python",
   "nbconvert_exporter": "python",
   "pygments_lexer": "ipython3",
   "version": "3.12.7"
  }
 },
 "nbformat": 4,
 "nbformat_minor": 2
}
